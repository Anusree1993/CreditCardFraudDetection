{
 "cells": [
  {
   "cell_type": "code",
   "execution_count": 1,
   "metadata": {},
   "outputs": [],
   "source": [
    "import pandas as pd\n",
    "import numpy as np\n",
    "import matplotlib.pyplot as plt\n",
    "import seaborn as sns\n",
    "from datetime import datetime"
   ]
  },
  {
   "cell_type": "code",
   "execution_count": 2,
   "metadata": {},
   "outputs": [],
   "source": [
    "#Load the dataset\n",
    "dfcredit = pd.read_csv(r\"C:\\Users\\Anusree\\Downloads\\final_data.csv\")"
   ]
  },
  {
   "cell_type": "code",
   "execution_count": 3,
   "metadata": {},
   "outputs": [
    {
     "data": {
      "text/html": [
       "<div>\n",
       "<style scoped>\n",
       "    .dataframe tbody tr th:only-of-type {\n",
       "        vertical-align: middle;\n",
       "    }\n",
       "\n",
       "    .dataframe tbody tr th {\n",
       "        vertical-align: top;\n",
       "    }\n",
       "\n",
       "    .dataframe thead th {\n",
       "        text-align: right;\n",
       "    }\n",
       "</style>\n",
       "<table border=\"1\" class=\"dataframe\">\n",
       "  <thead>\n",
       "    <tr style=\"text-align: right;\">\n",
       "      <th></th>\n",
       "      <th>trans_date_trans_time</th>\n",
       "      <th>cc_num</th>\n",
       "      <th>merchant</th>\n",
       "      <th>category</th>\n",
       "      <th>amt</th>\n",
       "      <th>first</th>\n",
       "      <th>last</th>\n",
       "      <th>gender</th>\n",
       "      <th>street</th>\n",
       "      <th>city</th>\n",
       "      <th>...</th>\n",
       "      <th>lat</th>\n",
       "      <th>long</th>\n",
       "      <th>city_pop</th>\n",
       "      <th>job</th>\n",
       "      <th>dob</th>\n",
       "      <th>trans_num</th>\n",
       "      <th>unix_time</th>\n",
       "      <th>merch_lat</th>\n",
       "      <th>merch_long</th>\n",
       "      <th>is_fraud</th>\n",
       "    </tr>\n",
       "  </thead>\n",
       "  <tbody>\n",
       "    <tr>\n",
       "      <th>19121</th>\n",
       "      <td>2020-12-07 22:52:47</td>\n",
       "      <td>30518196150127</td>\n",
       "      <td>fraud_Powlowski-Weimann</td>\n",
       "      <td>food_dining</td>\n",
       "      <td>117.49</td>\n",
       "      <td>Karen</td>\n",
       "      <td>Sullivan</td>\n",
       "      <td>F</td>\n",
       "      <td>6313 Scott Trace</td>\n",
       "      <td>Rossville</td>\n",
       "      <td>...</td>\n",
       "      <td>40.3625</td>\n",
       "      <td>-87.6692</td>\n",
       "      <td>1807</td>\n",
       "      <td>Buyer, retail</td>\n",
       "      <td>1975-06-02</td>\n",
       "      <td>5ab53aa6c005346abbf91b4c0dd68ff2</td>\n",
       "      <td>1386456767</td>\n",
       "      <td>39.386543</td>\n",
       "      <td>-87.650837</td>\n",
       "      <td>1</td>\n",
       "    </tr>\n",
       "    <tr>\n",
       "      <th>4382</th>\n",
       "      <td>2020-12-15 16:24:35</td>\n",
       "      <td>2283743876903625</td>\n",
       "      <td>fraud_Thiel PLC</td>\n",
       "      <td>misc_pos</td>\n",
       "      <td>4.29</td>\n",
       "      <td>Shannon</td>\n",
       "      <td>Williams</td>\n",
       "      <td>F</td>\n",
       "      <td>9345 Spencer Junctions Suite 183</td>\n",
       "      <td>Alpharetta</td>\n",
       "      <td>...</td>\n",
       "      <td>34.0770</td>\n",
       "      <td>-84.3033</td>\n",
       "      <td>165556</td>\n",
       "      <td>Prison officer</td>\n",
       "      <td>1997-12-27</td>\n",
       "      <td>30a0933093c757ce5aa10aa8821fba39</td>\n",
       "      <td>1387124675</td>\n",
       "      <td>34.548332</td>\n",
       "      <td>-83.664487</td>\n",
       "      <td>0</td>\n",
       "    </tr>\n",
       "    <tr>\n",
       "      <th>11745</th>\n",
       "      <td>2019-05-18 02:17:59</td>\n",
       "      <td>3518758680062249</td>\n",
       "      <td>fraud_Hudson-Ratke</td>\n",
       "      <td>grocery_pos</td>\n",
       "      <td>283.21</td>\n",
       "      <td>Antonio</td>\n",
       "      <td>Koch</td>\n",
       "      <td>M</td>\n",
       "      <td>8738 Richard Brooks</td>\n",
       "      <td>Moab</td>\n",
       "      <td>...</td>\n",
       "      <td>38.5677</td>\n",
       "      <td>-109.5271</td>\n",
       "      <td>9772</td>\n",
       "      <td>Location manager</td>\n",
       "      <td>1989-11-24</td>\n",
       "      <td>26be3fc793738f93a5b98cdec937f3d8</td>\n",
       "      <td>1337307479</td>\n",
       "      <td>37.870377</td>\n",
       "      <td>-110.193522</td>\n",
       "      <td>1</td>\n",
       "    </tr>\n",
       "    <tr>\n",
       "      <th>9644</th>\n",
       "      <td>2020-12-02 00:04:02</td>\n",
       "      <td>4769426683924058915</td>\n",
       "      <td>fraud_Schaefer, McGlynn and Bosco</td>\n",
       "      <td>gas_transport</td>\n",
       "      <td>48.32</td>\n",
       "      <td>Andrea</td>\n",
       "      <td>Cruz</td>\n",
       "      <td>F</td>\n",
       "      <td>26572 Hodge Villages Suite 512</td>\n",
       "      <td>Mifflin</td>\n",
       "      <td>...</td>\n",
       "      <td>40.5553</td>\n",
       "      <td>-77.4001</td>\n",
       "      <td>1909</td>\n",
       "      <td>Mining engineer</td>\n",
       "      <td>1954-08-22</td>\n",
       "      <td>75b9d1b84a225286689b19e964251d07</td>\n",
       "      <td>1385942642</td>\n",
       "      <td>40.264776</td>\n",
       "      <td>-77.317657</td>\n",
       "      <td>0</td>\n",
       "    </tr>\n",
       "    <tr>\n",
       "      <th>9303</th>\n",
       "      <td>2019-07-23 22:43:18</td>\n",
       "      <td>4922710831011201</td>\n",
       "      <td>fraud_Conroy-Emard</td>\n",
       "      <td>food_dining</td>\n",
       "      <td>79.73</td>\n",
       "      <td>Heather</td>\n",
       "      <td>Chase</td>\n",
       "      <td>F</td>\n",
       "      <td>6888 Hicks Stream Suite 954</td>\n",
       "      <td>Manor</td>\n",
       "      <td>...</td>\n",
       "      <td>40.3359</td>\n",
       "      <td>-79.6607</td>\n",
       "      <td>1472</td>\n",
       "      <td>Public affairs consultant</td>\n",
       "      <td>1941-03-07</td>\n",
       "      <td>37e6a1c41921b27ee7a185c63b923ff6</td>\n",
       "      <td>1343083398</td>\n",
       "      <td>40.664897</td>\n",
       "      <td>-80.615284</td>\n",
       "      <td>0</td>\n",
       "    </tr>\n",
       "  </tbody>\n",
       "</table>\n",
       "<p>5 rows × 22 columns</p>\n",
       "</div>"
      ],
      "text/plain": [
       "      trans_date_trans_time               cc_num  \\\n",
       "19121   2020-12-07 22:52:47       30518196150127   \n",
       "4382    2020-12-15 16:24:35     2283743876903625   \n",
       "11745   2019-05-18 02:17:59     3518758680062249   \n",
       "9644    2020-12-02 00:04:02  4769426683924058915   \n",
       "9303    2019-07-23 22:43:18     4922710831011201   \n",
       "\n",
       "                                merchant       category     amt    first  \\\n",
       "19121            fraud_Powlowski-Weimann    food_dining  117.49    Karen   \n",
       "4382                     fraud_Thiel PLC       misc_pos    4.29  Shannon   \n",
       "11745                 fraud_Hudson-Ratke    grocery_pos  283.21  Antonio   \n",
       "9644   fraud_Schaefer, McGlynn and Bosco  gas_transport   48.32   Andrea   \n",
       "9303                  fraud_Conroy-Emard    food_dining   79.73  Heather   \n",
       "\n",
       "           last gender                            street        city  ...  \\\n",
       "19121  Sullivan      F                  6313 Scott Trace   Rossville  ...   \n",
       "4382   Williams      F  9345 Spencer Junctions Suite 183  Alpharetta  ...   \n",
       "11745      Koch      M               8738 Richard Brooks        Moab  ...   \n",
       "9644       Cruz      F    26572 Hodge Villages Suite 512     Mifflin  ...   \n",
       "9303      Chase      F       6888 Hicks Stream Suite 954       Manor  ...   \n",
       "\n",
       "           lat      long  city_pop                        job         dob  \\\n",
       "19121  40.3625  -87.6692      1807              Buyer, retail  1975-06-02   \n",
       "4382   34.0770  -84.3033    165556             Prison officer  1997-12-27   \n",
       "11745  38.5677 -109.5271      9772           Location manager  1989-11-24   \n",
       "9644   40.5553  -77.4001      1909            Mining engineer  1954-08-22   \n",
       "9303   40.3359  -79.6607      1472  Public affairs consultant  1941-03-07   \n",
       "\n",
       "                              trans_num   unix_time  merch_lat  merch_long  \\\n",
       "19121  5ab53aa6c005346abbf91b4c0dd68ff2  1386456767  39.386543  -87.650837   \n",
       "4382   30a0933093c757ce5aa10aa8821fba39  1387124675  34.548332  -83.664487   \n",
       "11745  26be3fc793738f93a5b98cdec937f3d8  1337307479  37.870377 -110.193522   \n",
       "9644   75b9d1b84a225286689b19e964251d07  1385942642  40.264776  -77.317657   \n",
       "9303   37e6a1c41921b27ee7a185c63b923ff6  1343083398  40.664897  -80.615284   \n",
       "\n",
       "       is_fraud  \n",
       "19121         1  \n",
       "4382          0  \n",
       "11745         1  \n",
       "9644          0  \n",
       "9303          0  \n",
       "\n",
       "[5 rows x 22 columns]"
      ]
     },
     "execution_count": 3,
     "metadata": {},
     "output_type": "execute_result"
    }
   ],
   "source": [
    "#Display some sample result\n",
    "dfcredit.sample(5)"
   ]
  },
  {
   "cell_type": "code",
   "execution_count": 4,
   "metadata": {},
   "outputs": [
    {
     "data": {
      "text/html": [
       "<div>\n",
       "<style scoped>\n",
       "    .dataframe tbody tr th:only-of-type {\n",
       "        vertical-align: middle;\n",
       "    }\n",
       "\n",
       "    .dataframe tbody tr th {\n",
       "        vertical-align: top;\n",
       "    }\n",
       "\n",
       "    .dataframe thead th {\n",
       "        text-align: right;\n",
       "    }\n",
       "</style>\n",
       "<table border=\"1\" class=\"dataframe\">\n",
       "  <thead>\n",
       "    <tr style=\"text-align: right;\">\n",
       "      <th></th>\n",
       "      <th>cc_num</th>\n",
       "      <th>amt</th>\n",
       "      <th>zip</th>\n",
       "      <th>lat</th>\n",
       "      <th>long</th>\n",
       "      <th>city_pop</th>\n",
       "      <th>unix_time</th>\n",
       "      <th>merch_lat</th>\n",
       "      <th>merch_long</th>\n",
       "      <th>is_fraud</th>\n",
       "    </tr>\n",
       "  </thead>\n",
       "  <tbody>\n",
       "    <tr>\n",
       "      <th>count</th>\n",
       "      <td>1.930200e+04</td>\n",
       "      <td>19302.000000</td>\n",
       "      <td>19302.000000</td>\n",
       "      <td>19302.000000</td>\n",
       "      <td>19302.000000</td>\n",
       "      <td>1.930200e+04</td>\n",
       "      <td>1.930200e+04</td>\n",
       "      <td>19302.000000</td>\n",
       "      <td>19302.000000</td>\n",
       "      <td>19302.000000</td>\n",
       "    </tr>\n",
       "    <tr>\n",
       "      <th>mean</th>\n",
       "      <td>4.031783e+17</td>\n",
       "      <td>299.401286</td>\n",
       "      <td>48786.681795</td>\n",
       "      <td>38.612140</td>\n",
       "      <td>-90.344563</td>\n",
       "      <td>8.894424e+04</td>\n",
       "      <td>1.357049e+09</td>\n",
       "      <td>38.608007</td>\n",
       "      <td>-90.346885</td>\n",
       "      <td>0.500000</td>\n",
       "    </tr>\n",
       "    <tr>\n",
       "      <th>std</th>\n",
       "      <td>1.286824e+18</td>\n",
       "      <td>375.672619</td>\n",
       "      <td>27049.760036</td>\n",
       "      <td>5.126584</td>\n",
       "      <td>14.091762</td>\n",
       "      <td>3.018630e+05</td>\n",
       "      <td>1.818274e+07</td>\n",
       "      <td>5.164622</td>\n",
       "      <td>14.107188</td>\n",
       "      <td>0.500013</td>\n",
       "    </tr>\n",
       "    <tr>\n",
       "      <th>min</th>\n",
       "      <td>6.041621e+10</td>\n",
       "      <td>1.000000</td>\n",
       "      <td>1257.000000</td>\n",
       "      <td>20.027100</td>\n",
       "      <td>-165.672300</td>\n",
       "      <td>2.300000e+01</td>\n",
       "      <td>1.325385e+09</td>\n",
       "      <td>19.161782</td>\n",
       "      <td>-166.558056</td>\n",
       "      <td>0.000000</td>\n",
       "    </tr>\n",
       "    <tr>\n",
       "      <th>25%</th>\n",
       "      <td>1.800206e+14</td>\n",
       "      <td>20.350000</td>\n",
       "      <td>26041.000000</td>\n",
       "      <td>34.778900</td>\n",
       "      <td>-96.809400</td>\n",
       "      <td>7.600000e+02</td>\n",
       "      <td>1.341477e+09</td>\n",
       "      <td>34.880532</td>\n",
       "      <td>-96.951472</td>\n",
       "      <td>0.000000</td>\n",
       "    </tr>\n",
       "    <tr>\n",
       "      <th>50%</th>\n",
       "      <td>3.522829e+15</td>\n",
       "      <td>88.015000</td>\n",
       "      <td>48043.000000</td>\n",
       "      <td>39.390000</td>\n",
       "      <td>-87.591700</td>\n",
       "      <td>2.526000e+03</td>\n",
       "      <td>1.356362e+09</td>\n",
       "      <td>39.411563</td>\n",
       "      <td>-87.493075</td>\n",
       "      <td>0.500000</td>\n",
       "    </tr>\n",
       "    <tr>\n",
       "      <th>75%</th>\n",
       "      <td>4.634956e+15</td>\n",
       "      <td>479.595000</td>\n",
       "      <td>72011.000000</td>\n",
       "      <td>42.015800</td>\n",
       "      <td>-80.162900</td>\n",
       "      <td>1.968500e+04</td>\n",
       "      <td>1.372561e+09</td>\n",
       "      <td>41.991320</td>\n",
       "      <td>-80.237604</td>\n",
       "      <td>1.000000</td>\n",
       "    </tr>\n",
       "    <tr>\n",
       "      <th>max</th>\n",
       "      <td>4.992346e+18</td>\n",
       "      <td>7508.460000</td>\n",
       "      <td>99921.000000</td>\n",
       "      <td>66.693300</td>\n",
       "      <td>-67.950300</td>\n",
       "      <td>2.906700e+06</td>\n",
       "      <td>1.388533e+09</td>\n",
       "      <td>67.510267</td>\n",
       "      <td>-66.960745</td>\n",
       "      <td>1.000000</td>\n",
       "    </tr>\n",
       "  </tbody>\n",
       "</table>\n",
       "</div>"
      ],
      "text/plain": [
       "             cc_num           amt           zip           lat          long  \\\n",
       "count  1.930200e+04  19302.000000  19302.000000  19302.000000  19302.000000   \n",
       "mean   4.031783e+17    299.401286  48786.681795     38.612140    -90.344563   \n",
       "std    1.286824e+18    375.672619  27049.760036      5.126584     14.091762   \n",
       "min    6.041621e+10      1.000000   1257.000000     20.027100   -165.672300   \n",
       "25%    1.800206e+14     20.350000  26041.000000     34.778900    -96.809400   \n",
       "50%    3.522829e+15     88.015000  48043.000000     39.390000    -87.591700   \n",
       "75%    4.634956e+15    479.595000  72011.000000     42.015800    -80.162900   \n",
       "max    4.992346e+18   7508.460000  99921.000000     66.693300    -67.950300   \n",
       "\n",
       "           city_pop     unix_time     merch_lat    merch_long      is_fraud  \n",
       "count  1.930200e+04  1.930200e+04  19302.000000  19302.000000  19302.000000  \n",
       "mean   8.894424e+04  1.357049e+09     38.608007    -90.346885      0.500000  \n",
       "std    3.018630e+05  1.818274e+07      5.164622     14.107188      0.500013  \n",
       "min    2.300000e+01  1.325385e+09     19.161782   -166.558056      0.000000  \n",
       "25%    7.600000e+02  1.341477e+09     34.880532    -96.951472      0.000000  \n",
       "50%    2.526000e+03  1.356362e+09     39.411563    -87.493075      0.500000  \n",
       "75%    1.968500e+04  1.372561e+09     41.991320    -80.237604      1.000000  \n",
       "max    2.906700e+06  1.388533e+09     67.510267    -66.960745      1.000000  "
      ]
     },
     "execution_count": 4,
     "metadata": {},
     "output_type": "execute_result"
    }
   ],
   "source": [
    "#Summary statistics of numeric columns\n",
    "dfcredit.describe()"
   ]
  },
  {
   "cell_type": "code",
   "execution_count": 5,
   "metadata": {},
   "outputs": [
    {
     "data": {
      "text/plain": [
       "trans_date_trans_time    0\n",
       "cc_num                   0\n",
       "merchant                 0\n",
       "category                 0\n",
       "amt                      0\n",
       "first                    0\n",
       "last                     0\n",
       "gender                   0\n",
       "street                   0\n",
       "city                     0\n",
       "state                    0\n",
       "zip                      0\n",
       "lat                      0\n",
       "long                     0\n",
       "city_pop                 0\n",
       "job                      0\n",
       "dob                      0\n",
       "trans_num                0\n",
       "unix_time                0\n",
       "merch_lat                0\n",
       "merch_long               0\n",
       "is_fraud                 0\n",
       "dtype: int64"
      ]
     },
     "execution_count": 5,
     "metadata": {},
     "output_type": "execute_result"
    }
   ],
   "source": [
    "#Identifing the null value\n",
    "dfcredit.isnull().sum()"
   ]
  },
  {
   "cell_type": "markdown",
   "metadata": {},
   "source": [
    "### Top 5 Cities with Most Fraudulent Transactions"
   ]
  },
  {
   "cell_type": "code",
   "execution_count": 23,
   "metadata": {},
   "outputs": [],
   "source": [
    "# Filter for fraudulent transactions\n",
    "fraud_data = dfcredit[dfcredit['is_fraud'] == 1]"
   ]
  },
  {
   "cell_type": "code",
   "execution_count": 24,
   "metadata": {},
   "outputs": [],
   "source": [
    "# Group by city and count the number of fraudulent transactions\n",
    "city_fraud_counts = fraud_data['city'].value_counts()"
   ]
  },
  {
   "cell_type": "code",
   "execution_count": 27,
   "metadata": {},
   "outputs": [
    {
     "data": {
      "text/plain": [
       "Dallas           39\n",
       "Houston          39\n",
       "Birmingham       36\n",
       "New York City    35\n",
       "Allentown        34\n",
       "                 ..\n",
       "Kilgore           2\n",
       "Laramie           2\n",
       "Phenix City       2\n",
       "Littleton         2\n",
       "Sherman           2\n",
       "Name: city, Length: 887, dtype: int64"
      ]
     },
     "execution_count": 27,
     "metadata": {},
     "output_type": "execute_result"
    }
   ],
   "source": [
    "city_fraud_counts"
   ]
  },
  {
   "cell_type": "code",
   "execution_count": 25,
   "metadata": {},
   "outputs": [],
   "source": [
    "# Get the top 5 cities with the most fraudulent transactions\n",
    "top_5_cities = city_fraud_counts.head(5)"
   ]
  },
  {
   "cell_type": "code",
   "execution_count": 26,
   "metadata": {},
   "outputs": [
    {
     "data": {
      "text/plain": [
       "Dallas           39\n",
       "Houston          39\n",
       "Birmingham       36\n",
       "New York City    35\n",
       "Allentown        34\n",
       "Name: city, dtype: int64"
      ]
     },
     "execution_count": 26,
     "metadata": {},
     "output_type": "execute_result"
    }
   ],
   "source": [
    "top_5_cities"
   ]
  },
  {
   "cell_type": "code",
   "execution_count": 28,
   "metadata": {
    "scrolled": false
   },
   "outputs": [
    {
     "data": {
      "image/png": "[encoded data removed]",
      "text/plain": [
       "<Figure size 576x432 with 1 Axes>"
      ]
     },
     "metadata": {
      "needs_background": "light"
     },
     "output_type": "display_data"
    }
   ],
   "source": [
    "# Plot the results\n",
    "top_5_cities.plot(kind='bar', color='blue', figsize=(8,6))\n",
    "plt.title('Top 5 Cities with Most Fraudulent Transactions')\n",
    "plt.xlabel('City')\n",
    "plt.ylabel('Number of Fraudulent Transactions')\n",
    "plt.xticks(rotation=90)\n",
    "plt.show()"
   ]
  },
  {
   "cell_type": "markdown",
   "metadata": {},
   "source": [
    "### most frequent transaction categories associated with fraud transaction"
   ]
  },
  {
   "cell_type": "code",
   "execution_count": 13,
   "metadata": {},
   "outputs": [],
   "source": [
    "# Filter for fraudulent transactions\n",
    "fraud_data = dfcredit[dfcredit['is_fraud'] == 1]"
   ]
  },
  {
   "cell_type": "code",
   "execution_count": 29,
   "metadata": {},
   "outputs": [],
   "source": [
    "#group by category where most frequent transaction occurs\n",
    "categories_fraud_count = fraud_data ['category'].value_counts()"
   ]
  },
  {
   "cell_type": "code",
   "execution_count": 30,
   "metadata": {},
   "outputs": [
    {
     "data": {
      "text/plain": [
       "grocery_pos       2228\n",
       "shopping_net      2219\n",
       "misc_net          1182\n",
       "shopping_pos      1056\n",
       "gas_transport      772\n",
       "misc_pos           322\n",
       "kids_pets          304\n",
       "entertainment      292\n",
       "personal_care      290\n",
       "home               265\n",
       "food_dining        205\n",
       "health_fitness     185\n",
       "grocery_net        175\n",
       "travel             156\n",
       "Name: category, dtype: int64"
      ]
     },
     "execution_count": 30,
     "metadata": {},
     "output_type": "execute_result"
    }
   ],
   "source": [
    "categories_fraud_count"
   ]
  },
  {
   "cell_type": "code",
   "execution_count": 31,
   "metadata": {},
   "outputs": [],
   "source": [
    "# Get the frequent transactions assosiated with fraud trasaction\n",
    "Frequent_tans_categries = categories_fraud_count.head(10)"
   ]
  },
  {
   "cell_type": "code",
   "execution_count": 32,
   "metadata": {},
   "outputs": [
    {
     "data": {
      "text/plain": [
       "grocery_pos      2228\n",
       "shopping_net     2219\n",
       "misc_net         1182\n",
       "shopping_pos     1056\n",
       "gas_transport     772\n",
       "misc_pos          322\n",
       "kids_pets         304\n",
       "entertainment     292\n",
       "personal_care     290\n",
       "home              265\n",
       "Name: category, dtype: int64"
      ]
     },
     "execution_count": 32,
     "metadata": {},
     "output_type": "execute_result"
    }
   ],
   "source": [
    "Frequent_tans_categries"
   ]
  },
  {
   "cell_type": "code",
   "execution_count": 16,
   "metadata": {},
   "outputs": [
    {
     "data": {
      "image/png": "[encoded data removed]",
      "text/plain": [
       "<Figure size 720x576 with 1 Axes>"
      ]
     },
     "metadata": {
      "needs_background": "light"
     },
     "output_type": "display_data"
    }
   ],
   "source": [
    "# Plot the Result\n",
    "Frequent_tans_categries.plot(kind = 'bar',color = 'skyblue', figsize = (10,8))\n",
    "plt.xlabel('Categories')\n",
    "plt.ylabel('Number of Fraudulent Transaction')\n",
    "plt.title('Frequent transaction categories assosiated with fraud')\n",
    "plt.xticks(rotation=90)\n",
    "plt.legend()\n",
    "plt.show()"
   ]
  },
  {
   "cell_type": "markdown",
   "metadata": {},
   "source": [
    "### Top10 most frequent merchants for fraud Transaction"
   ]
  },
  {
   "cell_type": "code",
   "execution_count": 18,
   "metadata": {},
   "outputs": [],
   "source": [
    "# Filter the fraud Transaction\n",
    "fraud_data = dfcredit[dfcredit['is_fraud'] == 1]"
   ]
  },
  {
   "cell_type": "code",
   "execution_count": 33,
   "metadata": {},
   "outputs": [],
   "source": [
    "#Group by Merchants and count with the most frequent fraud transaction \n",
    "merchant_fraud_count = fraud_data['merchant'].value_counts()"
   ]
  },
  {
   "cell_type": "code",
   "execution_count": 34,
   "metadata": {},
   "outputs": [
    {
     "data": {
      "text/plain": [
       "fraud_Kilback LLC                      62\n",
       "fraud_Rau and Sons                     60\n",
       "fraud_Kozey-Boehm                      60\n",
       "fraud_Doyle Ltd                        57\n",
       "fraud_Terry-Huel                       56\n",
       "                                       ..\n",
       "fraud_Reichel, Bradtke and Blanda       1\n",
       "fraud_Prosacco, Kreiger and Kovacek     1\n",
       "fraud_Morar Inc                         1\n",
       "fraud_Windler LLC                       1\n",
       "fraud_Hackett Group                     1\n",
       "Name: merchant, Length: 685, dtype: int64"
      ]
     },
     "execution_count": 34,
     "metadata": {},
     "output_type": "execute_result"
    }
   ],
   "source": [
    "merchant_fraud_count"
   ]
  },
  {
   "cell_type": "code",
   "execution_count": 35,
   "metadata": {},
   "outputs": [],
   "source": [
    "#Get the top10 most frequent merchants for fraud transaction\n",
    "frequent_merchant = merchant_fraud_count.head(10)"
   ]
  },
  {
   "cell_type": "code",
   "execution_count": 36,
   "metadata": {},
   "outputs": [
    {
     "data": {
      "text/plain": [
       "fraud_Kilback LLC                      62\n",
       "fraud_Rau and Sons                     60\n",
       "fraud_Kozey-Boehm                      60\n",
       "fraud_Doyle Ltd                        57\n",
       "fraud_Terry-Huel                       56\n",
       "fraud_Boyer PLC                        55\n",
       "fraud_Kuhn LLC                         55\n",
       "fraud_Moen, Reinger and Murphy         53\n",
       "fraud_Kiehn-Emmerich                   53\n",
       "fraud_Mosciski, Ziemann and Farrell    53\n",
       "Name: merchant, dtype: int64"
      ]
     },
     "execution_count": 36,
     "metadata": {},
     "output_type": "execute_result"
    }
   ],
   "source": [
    "frequent_merchant"
   ]
  },
  {
   "cell_type": "code",
   "execution_count": 23,
   "metadata": {},
   "outputs": [
    {
     "data": {
      "image/png": "[encoded data removed]",
      "text/plain": [
       "<Figure size 720x576 with 1 Axes>"
      ]
     },
     "metadata": {
      "needs_background": "light"
     },
     "output_type": "display_data"
    }
   ],
   "source": [
    "# Plot the result\n",
    "frequent_merchant.plot(kind = 'bar', color = 'orange', figsize=(10,8))\n",
    "plt.xlabel('Merchants')\n",
    "plt.ylabel('Number of fraud transaction')\n",
    "plt.title('Top10 most frequent merchants for fraud Transaction')\n",
    "plt.xticks(rotation = 90)\n",
    "plt.legend()\n",
    "plt.show()\n"
   ]
  },
  {
   "cell_type": "markdown",
   "metadata": {},
   "source": [
    "### Avarage Amount Spent By Each Gender"
   ]
  },
  {
   "cell_type": "code",
   "execution_count": 37,
   "metadata": {},
   "outputs": [],
   "source": [
    "#to get average amount,groupby gender\n",
    "avg_amt_spent = dfcredit.groupby('gender')['amt'].mean()"
   ]
  },
  {
   "cell_type": "code",
   "execution_count": 38,
   "metadata": {},
   "outputs": [
    {
     "data": {
      "text/plain": [
       "gender\n",
       "F    271.712988\n",
       "M    330.507216\n",
       "Name: amt, dtype: float64"
      ]
     },
     "execution_count": 38,
     "metadata": {},
     "output_type": "execute_result"
    }
   ],
   "source": [
    "avg_amt_spent"
   ]
  },
  {
   "cell_type": "code",
   "execution_count": 32,
   "metadata": {},
   "outputs": [
    {
     "data": {
      "image/png": "[encoded data removed]",
      "text/plain": [
       "<Figure size 432x288 with 1 Axes>"
      ]
     },
     "metadata": {
      "needs_background": "light"
     },
     "output_type": "display_data"
    }
   ],
   "source": [
    "#Plot the Result\n",
    "avg_amt_spent.plot(kind='bar',color = ['green','red'], figsize =(6,4))\n",
    "plt.title('Avarage Amount Spend By Each Gender')\n",
    "plt.xlabel('Gender')\n",
    "plt.ylabel('Average amount Spent')\n",
    "plt.xticks(rotation=0)\n",
    "plt.show()\n"
   ]
  },
  {
   "cell_type": "markdown",
   "metadata": {},
   "source": [
    "### Top5 Merchant With Highest Average Transaction"
   ]
  },
  {
   "cell_type": "code",
   "execution_count": 8,
   "metadata": {},
   "outputs": [],
   "source": [
    "#Group by merchant and calculate the average transaction amount\n",
    "merchant_avg = dfcredit.groupby('merchant')['amt'].mean()"
   ]
  },
  {
   "cell_type": "code",
   "execution_count": 11,
   "metadata": {},
   "outputs": [
    {
     "data": {
      "text/plain": [
       "merchant\n",
       "fraud_Abbott-Rogahn                 163.065000\n",
       "fraud_Abbott-Steuber                 31.228500\n",
       "fraud_Abernathy and Sons             76.960556\n",
       "fraud_Abshire PLC                   262.755789\n",
       "fraud_Adams, Kovacek and Kuhlman     35.533077\n",
       "                                       ...    \n",
       "fraud_Zemlak Group                  621.918710\n",
       "fraud_Zemlak, Tillman and Cremin     63.723571\n",
       "fraud_Ziemann-Waters                 32.346800\n",
       "fraud_Zieme, Bode and Dooley         43.162222\n",
       "fraud_Zulauf LLC                     58.856667\n",
       "Name: amt, Length: 693, dtype: float64"
      ]
     },
     "execution_count": 11,
     "metadata": {},
     "output_type": "execute_result"
    }
   ],
   "source": [
    "merchant_avg"
   ]
  },
  {
   "cell_type": "code",
   "execution_count": 9,
   "metadata": {},
   "outputs": [],
   "source": [
    "#Sort by Transaction amount in decending order\n",
    "top5_merchants = merchant_avg.sort_values(ascending = False).head(5)"
   ]
  },
  {
   "cell_type": "code",
   "execution_count": 12,
   "metadata": {},
   "outputs": [
    {
     "data": {
      "text/plain": [
       "merchant\n",
       "fraud_Bashirian Group                  891.065510\n",
       "fraud_Kuhic LLC                        869.522344\n",
       "fraud_Schmidt and Sons                 852.231111\n",
       "fraud_Heathcote, Yost and Kertzmann    838.580323\n",
       "fraud_Kozey-Boehm                      832.279865\n",
       "Name: amt, dtype: float64"
      ]
     },
     "execution_count": 12,
     "metadata": {},
     "output_type": "execute_result"
    }
   ],
   "source": [
    "top5_merchants "
   ]
  },
  {
   "cell_type": "code",
   "execution_count": 19,
   "metadata": {},
   "outputs": [
    {
     "data": {
      "image/png": "[encoded data removed]",
      "text/plain": [
       "<Figure size 720x432 with 1 Axes>"
      ]
     },
     "metadata": {
      "needs_background": "light"
     },
     "output_type": "display_data"
    }
   ],
   "source": [
    "#Plot The Result\n",
    "top5_merchants.plot(kind = 'bar', color = 'yellow',figsize=(10,6))\n",
    "plt.title('Top5 Merchant With Highest Average Transaction')\n",
    "plt.xlabel('Merchant')\n",
    "plt.ylabel('Average transaction Amount')\n",
    "plt.xticks(rotation=90)\n",
    "plt.show()"
   ]
  },
  {
   "cell_type": "markdown",
   "metadata": {},
   "source": [
    "## top 5 states with the highest number of transactions"
   ]
  },
  {
   "cell_type": "code",
   "execution_count": 5,
   "metadata": {},
   "outputs": [],
   "source": [
    "#Group By State And Count Transaction\n",
    "state_count = dfcredit['state'].value_counts()"
   ]
  },
  {
   "cell_type": "code",
   "execution_count": 7,
   "metadata": {},
   "outputs": [],
   "source": [
    "#Get the top5 states\n",
    "Top5_states = state_count.head(5)"
   ]
  },
  {
   "cell_type": "code",
   "execution_count": 8,
   "metadata": {},
   "outputs": [
    {
     "data": {
      "text/plain": [
       "NY    1290\n",
       "TX    1287\n",
       "PA    1153\n",
       "CA     857\n",
       "OH     687\n",
       "Name: state, dtype: int64"
      ]
     },
     "execution_count": 8,
     "metadata": {},
     "output_type": "execute_result"
    }
   ],
   "source": [
    "Top5_states"
   ]
  },
  {
   "cell_type": "code",
   "execution_count": 11,
   "metadata": {},
   "outputs": [
    {
     "data": {
      "image/png": "[encoded data removed]",
      "text/plain": [
       "<Figure size 576x576 with 1 Axes>"
      ]
     },
     "metadata": {},
     "output_type": "display_data"
    }
   ],
   "source": [
    "#Plot the Result\n",
    "plt.figure(figsize=(8,8))\n",
    "Top5_states.plot(kind = 'pie' , label = 'States' , autopct = '%.2f%%',explode = [0.1,0,0,0,0] , shadow = True)\n",
    "plt.title('top 5 states with the highest number of transactions')\n",
    "plt.show()"
   ]
  },
  {
   "cell_type": "markdown",
   "metadata": {},
   "source": [
    "### Customer Age For fraudulent Transaction"
   ]
  },
  {
   "cell_type": "code",
   "execution_count": 34,
   "metadata": {},
   "outputs": [],
   "source": [
    "#Parse transaction date & time and dob(convert dates into datetime objects)\n",
    "dfcredit['trans_date_trans_time'] = pd.to_datetime(dfcredit['trans_date_trans_time'])\n",
    "dfcredit['dob'] = pd.to_datetime(dfcredit['dob'])"
   ]
  },
  {
   "cell_type": "code",
   "execution_count": 35,
   "metadata": {},
   "outputs": [
    {
     "data": {
      "text/plain": [
       "0       2019-08-11 19:38:33\n",
       "1       2020-02-21 13:31:42\n",
       "2       2019-09-03 02:39:49\n",
       "3       2020-03-31 02:39:04\n",
       "4       2020-12-05 07:58:57\n",
       "                ...        \n",
       "19297   2020-12-22 22:05:48\n",
       "19298   2020-12-22 22:18:07\n",
       "19299   2020-12-22 22:31:48\n",
       "19300   2020-12-22 23:06:03\n",
       "19301   2020-12-22 23:13:39\n",
       "Name: trans_date_trans_time, Length: 19302, dtype: datetime64[ns]"
      ]
     },
     "execution_count": 35,
     "metadata": {},
     "output_type": "execute_result"
    }
   ],
   "source": [
    "dfcredit['trans_date_trans_time']"
   ]
  },
  {
   "cell_type": "code",
   "execution_count": 36,
   "metadata": {},
   "outputs": [
    {
     "data": {
      "text/plain": [
       "0       1977-08-12\n",
       "1       1999-06-06\n",
       "2       1967-08-02\n",
       "3       1948-04-11\n",
       "4       1961-12-14\n",
       "           ...    \n",
       "19297   1959-03-03\n",
       "19298   1959-03-03\n",
       "19299   1959-03-03\n",
       "19300   1959-03-03\n",
       "19301   1959-03-03\n",
       "Name: dob, Length: 19302, dtype: datetime64[ns]"
      ]
     },
     "execution_count": 36,
     "metadata": {},
     "output_type": "execute_result"
    }
   ],
   "source": [
    "dfcredit['dob']"
   ]
  },
  {
   "cell_type": "code",
   "execution_count": 37,
   "metadata": {
    "scrolled": true
   },
   "outputs": [],
   "source": [
    "#Calculate the Age\n",
    "dfcredit['Age'] = dfcredit['trans_date_trans_time'].dt.year - dfcredit['dob'].dt.year - (\n",
    "                   (dfcredit['trans_date_trans_time'].dt.month < dfcredit['dob'].dt.month) |\n",
    "                        ((dfcredit['trans_date_trans_time'].dt.day) == dfcredit['dob'].dt.month) &\n",
    "                       (dfcredit['trans_date_trans_time'].dt.month < dfcredit['dob'].dt.day))\n"
   ]
  },
  {
   "cell_type": "code",
   "execution_count": 38,
   "metadata": {},
   "outputs": [],
   "source": [
    " #Filter fraudulent transactions\n",
    "fraud_ages = dfcredit[dfcredit['is_fraud'] == 1]['Age']"
   ]
  },
  {
   "cell_type": "code",
   "execution_count": 39,
   "metadata": {},
   "outputs": [
    {
     "data": {
      "text/plain": [
       "9651     30\n",
       "9652     58\n",
       "9653     58\n",
       "9654     30\n",
       "9655     58\n",
       "         ..\n",
       "19297    61\n",
       "19298    61\n",
       "19299    61\n",
       "19300    61\n",
       "19301    61\n",
       "Name: Age, Length: 9651, dtype: int64"
      ]
     },
     "execution_count": 39,
     "metadata": {},
     "output_type": "execute_result"
    }
   ],
   "source": [
    "fraud_ages"
   ]
  },
  {
   "cell_type": "code",
   "execution_count": 33,
   "metadata": {},
   "outputs": [
    {
     "data": {
      "image/png": "[encoded data removed]",
      "text/plain": [
       "<Figure size 720x576 with 1 Axes>"
      ]
     },
     "metadata": {
      "needs_background": "light"
     },
     "output_type": "display_data"
    }
   ],
   "source": [
    "#plot the Result\n",
    "plt.figure(figsize=(10,8))\n",
    "plt.hist(fraud_ages,bins = 10,color = 'orange',)\n",
    "plt.title(\"Customer Age For fraudulent Transaction\")\n",
    "plt.xlabel(\"Age\")\n",
    "plt.ylabel(\"number of fradulent Transaction\")\n",
    "plt.grid(axis='y', linestyle='--', alpha=0.7)\n",
    "plt.show()"
   ]
  },
  {
   "cell_type": "markdown",
   "metadata": {},
   "source": [
    "### Distribution of transaction over the month"
   ]
  },
  {
   "cell_type": "code",
   "execution_count": 7,
   "metadata": {},
   "outputs": [],
   "source": [
    "#Convert transaction date & time to DateTime object\n",
    "dfcredit['trans_date_trans_time'] = pd.to_datetime(dfcredit['trans_date_trans_time'])"
   ]
  },
  {
   "cell_type": "code",
   "execution_count": 8,
   "metadata": {},
   "outputs": [],
   "source": [
    "#Extract the day of month\n",
    "dfcredit['day_of_month'] = dfcredit['trans_date_trans_time'].dt.day"
   ]
  },
  {
   "cell_type": "code",
   "execution_count": 9,
   "metadata": {},
   "outputs": [
    {
     "data": {
      "text/plain": [
       "0        11\n",
       "1        21\n",
       "2         3\n",
       "3        31\n",
       "4         5\n",
       "         ..\n",
       "19297    22\n",
       "19298    22\n",
       "19299    22\n",
       "19300    22\n",
       "19301    22\n",
       "Name: day_of_month, Length: 19302, dtype: int64"
      ]
     },
     "execution_count": 9,
     "metadata": {},
     "output_type": "execute_result"
    }
   ],
   "source": [
    "dfcredit['day_of_month']"
   ]
  },
  {
   "cell_type": "code",
   "execution_count": 13,
   "metadata": {},
   "outputs": [],
   "source": [
    "#Count the transaction per day\n",
    "transaction_per_day = dfcredit['day_of_month'].value_counts().sort_index()"
   ]
  },
  {
   "cell_type": "code",
   "execution_count": 20,
   "metadata": {},
   "outputs": [
    {
     "data": {
      "text/plain": [
       "1     605\n",
       "2     634\n",
       "3     654\n",
       "4     609\n",
       "5     615\n",
       "6     551\n",
       "7     632\n",
       "8     709\n",
       "9     559\n",
       "10    621\n",
       "11    670\n",
       "12    691\n",
       "13    596\n",
       "14    683\n",
       "15    602\n",
       "16    577\n",
       "17    648\n",
       "18    588\n",
       "19    677\n",
       "20    731\n",
       "21    585\n",
       "22    627\n",
       "23    615\n",
       "24    634\n",
       "25    662\n",
       "26    608\n",
       "27    635\n",
       "28    656\n",
       "29    637\n",
       "30    600\n",
       "31    391\n",
       "Name: day_of_month, dtype: int64"
      ]
     },
     "execution_count": 20,
     "metadata": {},
     "output_type": "execute_result"
    }
   ],
   "source": [
    "transaction_per_day"
   ]
  },
  {
   "cell_type": "code",
   "execution_count": 19,
   "metadata": {},
   "outputs": [
    {
     "data": {
      "image/png": "[encoded data removed]",
      "text/plain": [
       "<Figure size 720x432 with 1 Axes>"
      ]
     },
     "metadata": {
      "needs_background": "light"
     },
     "output_type": "display_data"
    }
   ],
   "source": [
    "#plot the result\n",
    "plt.figure(figsize=(10, 6))\n",
    "transaction_per_day.sort_index().plot(kind='line', marker='o', color='red', linewidth=2)\n",
    "plt.title('Distribution of Transactions Over the Month')\n",
    "plt.xlabel('Day of the Month')\n",
    "plt.ylabel('Number of Transactions')\n",
    "plt.grid(axis='both', linestyle='--', alpha=0.7)\n",
    "plt.xticks(range(1, 32))  # Adjust for 31 days\n",
    "plt.tight_layout()\n",
    "plt.show()\n"
   ]
  },
  {
   "cell_type": "markdown",
   "metadata": {},
   "source": [
    "### Average Spending Amount By Age Group"
   ]
  },
  {
   "cell_type": "code",
   "execution_count": 6,
   "metadata": {},
   "outputs": [],
   "source": [
    "#Convert dob to datetime format\n",
    "dfcredit['dob'] = pd.to_datetime(dfcredit['dob'])"
   ]
  },
  {
   "cell_type": "code",
   "execution_count": 8,
   "metadata": {},
   "outputs": [],
   "source": [
    "#Calculate Age\n",
    "current_year = datetime.now().year\n",
    "dfcredit['Age'] = current_year - dfcredit['dob'].dt.year"
   ]
  },
  {
   "cell_type": "code",
   "execution_count": 9,
   "metadata": {},
   "outputs": [
    {
     "data": {
      "text/plain": [
       "0        48\n",
       "1        26\n",
       "2        58\n",
       "3        77\n",
       "4        64\n",
       "         ..\n",
       "19297    66\n",
       "19298    66\n",
       "19299    66\n",
       "19300    66\n",
       "19301    66\n",
       "Name: Age, Length: 19302, dtype: int64"
      ]
     },
     "execution_count": 9,
     "metadata": {},
     "output_type": "execute_result"
    }
   ],
   "source": [
    "dfcredit['Age'] "
   ]
  },
  {
   "cell_type": "code",
   "execution_count": 13,
   "metadata": {},
   "outputs": [],
   "source": [
    "#Define age bins and labels\n",
    "bins = [18,25,35,45,55,65,75,100]\n",
    "labels = ['18-25','26-35','36-45','46-55','56-65','66-75','76+']"
   ]
  },
  {
   "cell_type": "code",
   "execution_count": 14,
   "metadata": {},
   "outputs": [],
   "source": [
    "#Create Age Group\n",
    "dfcredit['Age_group'] = pd.cut(dfcredit['Age'],bins = bins,labels = labels,right = False)"
   ]
  },
  {
   "cell_type": "code",
   "execution_count": 15,
   "metadata": {},
   "outputs": [
    {
     "data": {
      "text/plain": [
       "0        46-55\n",
       "1        26-35\n",
       "2        56-65\n",
       "3          76+\n",
       "4        56-65\n",
       "         ...  \n",
       "19297    66-75\n",
       "19298    66-75\n",
       "19299    66-75\n",
       "19300    66-75\n",
       "19301    66-75\n",
       "Name: Age_group, Length: 19302, dtype: category\n",
       "Categories (7, object): ['18-25' < '26-35' < '36-45' < '46-55' < '56-65' < '66-75' < '76+']"
      ]
     },
     "execution_count": 15,
     "metadata": {},
     "output_type": "execute_result"
    }
   ],
   "source": [
    "dfcredit['Age_group']"
   ]
  },
  {
   "cell_type": "code",
   "execution_count": 17,
   "metadata": {},
   "outputs": [],
   "source": [
    "#Calculate Average Spending per Age Group\n",
    "Age_group_spending = dfcredit.groupby('Age_group')['amt'].mean()"
   ]
  },
  {
   "cell_type": "code",
   "execution_count": 18,
   "metadata": {},
   "outputs": [
    {
     "data": {
      "text/plain": [
       "Age_group\n",
       "18-25    322.235019\n",
       "26-35    306.012368\n",
       "36-45    261.933210\n",
       "46-55    237.875050\n",
       "56-65    348.391822\n",
       "66-75    327.236276\n",
       "76+      354.075453\n",
       "Name: amt, dtype: float64"
      ]
     },
     "execution_count": 18,
     "metadata": {},
     "output_type": "execute_result"
    }
   ],
   "source": [
    "Age_group_spending"
   ]
  },
  {
   "cell_type": "code",
   "execution_count": 22,
   "metadata": {},
   "outputs": [
    {
     "data": {
      "image/png": "[encoded data removed]",
      "text/plain": [
       "<Figure size 720x360 with 1 Axes>"
      ]
     },
     "metadata": {
      "needs_background": "light"
     },
     "output_type": "display_data"
    }
   ],
   "source": [
    "#Plot The Result\n",
    "plt.figure(figsize=(10, 5))\n",
    "Age_group_spending.plot(kind='line', marker='o', linestyle='-')\n",
    "plt.title('Average Spending Amount by Age Group')\n",
    "plt.xlabel('Age Group')\n",
    "plt.ylabel('Average Spending')\n",
    "plt.grid(True)\n",
    "plt.show()"
   ]
  },
  {
   "cell_type": "code",
   "execution_count": null,
   "metadata": {},
   "outputs": [],
   "source": []
  }
 ],
 "metadata": {
  "kernelspec": {
   "display_name": "Python 3",
   "language": "python",
   "name": "python3"
  },
  "language_info": {
   "codemirror_mode": {
    "name": "ipython",
    "version": 3
   },
   "file_extension": ".py",
   "mimetype": "text/x-python",
   "name": "python",
   "nbconvert_exporter": "python",
   "pygments_lexer": "ipython3",
   "version": "3.8.5"
  }
 },
 "nbformat": 4,
 "nbformat_minor": 4
}
